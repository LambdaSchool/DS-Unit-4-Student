{
 "cells": [
  {
   "cell_type": "markdown",
   "metadata": {
    "id": "fNvXnd3gxQLp"
   },
   "source": [
    "# Hello!\r\n",
    "\r\n",
    "This notebook will be used to test a script which aims to create a student-facing notebook when given an instructor notebook.\r\n",
    "\r\n",
    "## Process\r\n",
    "\r\n",
    "The IPython Notebook, JSON under the hood, will be parsed by a Jupyter package called `nbformat` which will allow us to search for key comments and scrub answers that lie between.\r\n",
    "\r\n",
    "We may consider replacing code with `raise ValueError('Did not edit code.')` or something similar.\r\n"
   ]
  },
  {
   "cell_type": "markdown",
   "metadata": {
    "id": "1_vonN4C4VGu"
   },
   "source": [
    "### Example 1\r\n",
    "\r\n",
    "Edit the cell below to create a function which will increment a number by 1."
   ]
  },
  {
   "cell_type": "code",
   "execution_count": null,
   "metadata": {
    "id": "BmX42ri9sDTi"
   },
   "outputs": [],
   "source": [
    "def add_one(number):\r\n",
    "  '''Adds 1 to a given number.'''\r\n",
    "  ### YOUR ANSWER HERE\n"
   ]
  },
  {
   "cell_type": "markdown",
   "metadata": {
    "id": "VzWSx7Hq5F8n"
   },
   "source": [
    "Ensure the code works correctly by running the cell below.\r\n",
    "\r\n",
    "The answer should be 16."
   ]
  },
  {
   "cell_type": "code",
   "execution_count": null,
   "metadata": {
    "colab": {
     "base_uri": "https://localhost:8080/"
    },
    "id": "o_x4ZTat5M8k",
    "outputId": "883450a2-8c44-4438-8d68-473b84163b75"
   },
   "outputs": [],
   "source": [
    "print(add_one(15))"
   ]
  },
  {
   "cell_type": "markdown",
   "metadata": {
    "id": "M_lKbZes4pvI"
   },
   "source": [
    "Write an additional Unit Test for Example 1"
   ]
  },
  {
   "cell_type": "code",
   "execution_count": null,
   "metadata": {
    "id": "XiNbtOaq4oc7"
   },
   "outputs": [],
   "source": [
    "assert add_one(0) == 1\r\n",
    "assert add_one(1) == 2\r\n",
    "assert add_one(2) == 3\r\n",
    "assert add_one(3) == 4\r\n",
    "### YOUR ANSWER HERE\n"
   ]
  }
 ],
 "metadata": {
  "colab": {
   "name": "TEST_INTRUCTOR_NOTEBOOK.ipynb",
   "provenance": []
  },
  "kernelspec": {
   "display_name": "Python 3",
   "name": "python3"
  }
 },
 "nbformat": 4,
 "nbformat_minor": 0
}
